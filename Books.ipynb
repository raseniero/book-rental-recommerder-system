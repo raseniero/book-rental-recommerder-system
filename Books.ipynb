{
   "cells": [
      {
         "cell_type": "code",
         "execution_count": 1,
         "metadata": {},
         "outputs": [],
         "source": [
            "import pandas as pd\n",
            "import numpy as np\n",
            "import matplotlib.pyplot as plt\n",
            "import seaborn as sns\n",
            "import os, io\n",
            "from pandas import Series, DataFrame, read_table\n",
            "import warnings\n",
            "warnings.filterwarnings('ignore')\n",
            "from sklearn.metrics import mean_squared_error\n",
            "%matplotlib inline"
         ]
      },
      {
         "cell_type": "markdown",
         "metadata": {},
         "source": [
            "# Data Analysis and Exploration\n"
         ]
      },
      {
         "cell_type": "markdown",
         "metadata": {},
         "source": [
            "## User Data\n"
         ]
      },
      {
         "cell_type": "markdown",
         "metadata": {},
         "source": [
            "### Exploratory Data Analysis:\n",
            "\n",
            "Load the Users data into a data frame\n"
         ]
      },
      {
         "cell_type": "code",
         "execution_count": 51,
         "metadata": {},
         "outputs": [
            {
               "data": {
                  "text/html": [
                     "<div>\n",
                     "<style scoped>\n",
                     "    .dataframe tbody tr th:only-of-type {\n",
                     "        vertical-align: middle;\n",
                     "    }\n",
                     "\n",
                     "    .dataframe tbody tr th {\n",
                     "        vertical-align: top;\n",
                     "    }\n",
                     "\n",
                     "    .dataframe thead th {\n",
                     "        text-align: right;\n",
                     "    }\n",
                     "</style>\n",
                     "<table border=\"1\" class=\"dataframe\">\n",
                     "  <thead>\n",
                     "    <tr style=\"text-align: right;\">\n",
                     "      <th></th>\n",
                     "      <th>user_id</th>\n",
                     "      <th>Location</th>\n",
                     "      <th>Age</th>\n",
                     "    </tr>\n",
                     "  </thead>\n",
                     "  <tbody>\n",
                     "    <tr>\n",
                     "      <th>0</th>\n",
                     "      <td>1</td>\n",
                     "      <td>nyc, new york, usa</td>\n",
                     "      <td>NaN</td>\n",
                     "    </tr>\n",
                     "    <tr>\n",
                     "      <th>1</th>\n",
                     "      <td>2</td>\n",
                     "      <td>stockton, california, usa</td>\n",
                     "      <td>18.0</td>\n",
                     "    </tr>\n",
                     "    <tr>\n",
                     "      <th>2</th>\n",
                     "      <td>3</td>\n",
                     "      <td>moscow, yukon territory, russia</td>\n",
                     "      <td>NaN</td>\n",
                     "    </tr>\n",
                     "    <tr>\n",
                     "      <th>3</th>\n",
                     "      <td>4</td>\n",
                     "      <td>porto, v.n.gaia, portugal</td>\n",
                     "      <td>17.0</td>\n",
                     "    </tr>\n",
                     "    <tr>\n",
                     "      <th>4</th>\n",
                     "      <td>5</td>\n",
                     "      <td>farnborough, hants, united kingdom</td>\n",
                     "      <td>NaN</td>\n",
                     "    </tr>\n",
                     "  </tbody>\n",
                     "</table>\n",
                     "</div>"
                  ],
                  "text/plain": [
                     "  user_id                            Location   Age\n",
                     "0       1                  nyc, new york, usa   NaN\n",
                     "1       2           stockton, california, usa  18.0\n",
                     "2       3     moscow, yukon territory, russia   NaN\n",
                     "3       4           porto, v.n.gaia, portugal  17.0\n",
                     "4       5  farnborough, hants, united kingdom   NaN"
                  ]
               },
               "execution_count": 51,
               "metadata": {},
               "output_type": "execute_result"
            }
         ],
         "source": [
            "df_users = pd.read_csv(\"BX-Users.csv\", delimiter=\",\", encoding=\"latin-1\")\n",
            "df_users.head()"
         ]
      },
      {
         "cell_type": "code",
         "execution_count": 52,
         "metadata": {},
         "outputs": [
            {
               "name": "stdout",
               "output_type": "stream",
               "text": [
                  "<class 'pandas.core.frame.DataFrame'>\n",
                  "RangeIndex: 278859 entries, 0 to 278858\n",
                  "Data columns (total 3 columns):\n",
                  " #   Column    Non-Null Count   Dtype  \n",
                  "---  ------    --------------   -----  \n",
                  " 0   user_id   278859 non-null  object \n",
                  " 1   Location  278858 non-null  object \n",
                  " 2   Age       168096 non-null  float64\n",
                  "dtypes: float64(1), object(2)\n",
                  "memory usage: 6.4+ MB\n",
                  "None\n"
               ]
            }
         ],
         "source": [
            "print(df_users.info())"
         ]
      },
      {
         "cell_type": "code",
         "execution_count": 53,
         "metadata": {},
         "outputs": [
            {
               "name": "stdout",
               "output_type": "stream",
               "text": [
                  "user_id          0\n",
                  "Location         1\n",
                  "Age         110763\n",
                  "dtype: int64\n"
               ]
            }
         ],
         "source": [
            "print(df_users.isnull().sum())"
         ]
      },
      {
         "cell_type": "code",
         "execution_count": 54,
         "metadata": {},
         "outputs": [
            {
               "name": "stdout",
               "output_type": "stream",
               "text": [
                  "Number of unique user features:\n",
                  "\n",
                  "user_id     278859\n",
                  "Location     57339\n",
                  "Age            165\n",
                  "dtype: int64\n"
               ]
            }
         ],
         "source": [
            "print(\"Number of unique user features:\\n\")\n",
            "print(df_users.nunique())"
         ]
      },
      {
         "cell_type": "markdown",
         "metadata": {},
         "source": [
            "Rename the columns to all lower case\n"
         ]
      },
      {
         "cell_type": "code",
         "execution_count": 61,
         "metadata": {},
         "outputs": [],
         "source": [
            "# change the columns names of df_users\n",
            "def rename_columns(df_users):\n",
            "    df_users.columns = [\"userid\", \"location\", \"age\"]\n",
            "    return df_users\n",
            "\n",
            "\n",
            "df_users = rename_columns(df_users)"
         ]
      },
      {
         "cell_type": "code",
         "execution_count": 62,
         "metadata": {},
         "outputs": [
            {
               "data": {
                  "text/html": [
                     "<div>\n",
                     "<style scoped>\n",
                     "    .dataframe tbody tr th:only-of-type {\n",
                     "        vertical-align: middle;\n",
                     "    }\n",
                     "\n",
                     "    .dataframe tbody tr th {\n",
                     "        vertical-align: top;\n",
                     "    }\n",
                     "\n",
                     "    .dataframe thead th {\n",
                     "        text-align: right;\n",
                     "    }\n",
                     "</style>\n",
                     "<table border=\"1\" class=\"dataframe\">\n",
                     "  <thead>\n",
                     "    <tr style=\"text-align: right;\">\n",
                     "      <th></th>\n",
                     "      <th>userid</th>\n",
                     "      <th>location</th>\n",
                     "      <th>age</th>\n",
                     "    </tr>\n",
                     "  </thead>\n",
                     "  <tbody>\n",
                     "    <tr>\n",
                     "      <th>0</th>\n",
                     "      <td>1</td>\n",
                     "      <td>nyc, new york, usa</td>\n",
                     "      <td>NaN</td>\n",
                     "    </tr>\n",
                     "    <tr>\n",
                     "      <th>1</th>\n",
                     "      <td>2</td>\n",
                     "      <td>stockton, california, usa</td>\n",
                     "      <td>18.0</td>\n",
                     "    </tr>\n",
                     "    <tr>\n",
                     "      <th>2</th>\n",
                     "      <td>3</td>\n",
                     "      <td>moscow, yukon territory, russia</td>\n",
                     "      <td>NaN</td>\n",
                     "    </tr>\n",
                     "    <tr>\n",
                     "      <th>3</th>\n",
                     "      <td>4</td>\n",
                     "      <td>porto, v.n.gaia, portugal</td>\n",
                     "      <td>17.0</td>\n",
                     "    </tr>\n",
                     "    <tr>\n",
                     "      <th>4</th>\n",
                     "      <td>5</td>\n",
                     "      <td>farnborough, hants, united kingdom</td>\n",
                     "      <td>NaN</td>\n",
                     "    </tr>\n",
                     "  </tbody>\n",
                     "</table>\n",
                     "</div>"
                  ],
                  "text/plain": [
                     "   userid                            location   age\n",
                     "0     1.0                  nyc, new york, usa   NaN\n",
                     "1     2.0           stockton, california, usa  18.0\n",
                     "2     3.0     moscow, yukon territory, russia   NaN\n",
                     "3     4.0           porto, v.n.gaia, portugal  17.0\n",
                     "4     5.0  farnborough, hants, united kingdom   NaN"
                  ]
               },
               "execution_count": 62,
               "metadata": {},
               "output_type": "execute_result"
            }
         ],
         "source": [
            "df_users[\"userid\"] = pd.to_numeric(df_users[\"userid\"], errors=\"coerce\")\n",
            "df_users = df_users.sort_values(by=[\"userid\"])\n",
            "df_users.reset_index(drop=True, inplace=True)\n",
            "df_users.head()"
         ]
      },
      {
         "cell_type": "code",
         "execution_count": 63,
         "metadata": {},
         "outputs": [
            {
               "name": "stdout",
               "output_type": "stream",
               "text": [
                  "<class 'pandas.core.frame.DataFrame'>\n",
                  "RangeIndex: 278859 entries, 0 to 278858\n",
                  "Data columns (total 3 columns):\n",
                  " #   Column    Non-Null Count   Dtype  \n",
                  "---  ------    --------------   -----  \n",
                  " 0   userid    278858 non-null  float64\n",
                  " 1   location  278858 non-null  object \n",
                  " 2   age       168096 non-null  float64\n",
                  "dtypes: float64(2), object(1)\n",
                  "memory usage: 6.4+ MB\n"
               ]
            }
         ],
         "source": [
            "df_users.info()"
         ]
      },
      {
         "cell_type": "code",
         "execution_count": 64,
         "metadata": {},
         "outputs": [
            {
               "name": "stdout",
               "output_type": "stream",
               "text": [
                  "              userid                         location            age\n",
                  "count   278858.00000                           278858  168096.000000\n",
                  "unique           NaN                            57339            NaN\n",
                  "top              NaN  london, england, united kingdom            NaN\n",
                  "freq             NaN                             2506            NaN\n",
                  "mean    139429.50000                              NaN      34.751434\n",
                  "std      80499.51502                              NaN      14.428097\n",
                  "min          1.00000                              NaN       0.000000\n",
                  "25%      69715.25000                              NaN      24.000000\n",
                  "50%     139429.50000                              NaN      32.000000\n",
                  "75%     209143.75000                              NaN      44.000000\n",
                  "max     278858.00000                              NaN     244.000000\n"
               ]
            }
         ],
         "source": [
            "print(df_users.describe(include=\"all\"))"
         ]
      },
      {
         "cell_type": "code",
         "execution_count": 65,
         "metadata": {},
         "outputs": [
            {
               "data": {
                  "image/png": "[encoded data removed]",
                  "text/plain": [
                     "<Figure size 1000x500 with 1 Axes>"
                  ]
               },
               "metadata": {},
               "output_type": "display_data"
            }
         ],
         "source": [
            "# Plot the age distribution of users\n",
            "def plot_age_distribution(df):\n",
            "    plt.figure(figsize=(10, 5))\n",
            "    plt.hist(\n",
            "        df[\"age\"], bins=np.arange(df[\"age\"].min(), df[\"age\"].max() + 1), color=\"purple\"\n",
            "    )\n",
            "    plt.xlabel(\"Age\")\n",
            "    plt.ylabel(\"Count\")\n",
            "    plt.title(\"Age Distribution\")\n",
            "    plt.show()\n",
            "\n",
            "\n",
            "plot_age_distribution(df_users)"
         ]
      },
      {
         "cell_type": "markdown",
         "metadata": {},
         "source": [
            "## Book Data\n"
         ]
      },
      {
         "cell_type": "markdown",
         "metadata": {},
         "source": [
            "### Exploratory Data Analysis\n"
         ]
      },
      {
         "cell_type": "code",
         "execution_count": 3,
         "metadata": {},
         "outputs": [
            {
               "data": {
                  "text/html": [
                     "<div>\n",
                     "<style scoped>\n",
                     "    .dataframe tbody tr th:only-of-type {\n",
                     "        vertical-align: middle;\n",
                     "    }\n",
                     "\n",
                     "    .dataframe tbody tr th {\n",
                     "        vertical-align: top;\n",
                     "    }\n",
                     "\n",
                     "    .dataframe thead th {\n",
                     "        text-align: right;\n",
                     "    }\n",
                     "</style>\n",
                     "<table border=\"1\" class=\"dataframe\">\n",
                     "  <thead>\n",
                     "    <tr style=\"text-align: right;\">\n",
                     "      <th></th>\n",
                     "      <th>isbn</th>\n",
                     "      <th>book_title</th>\n",
                     "      <th>book_author</th>\n",
                     "      <th>year_of_publication</th>\n",
                     "      <th>publisher</th>\n",
                     "    </tr>\n",
                     "  </thead>\n",
                     "  <tbody>\n",
                     "    <tr>\n",
                     "      <th>0</th>\n",
                     "      <td>195153448</td>\n",
                     "      <td>Classical Mythology</td>\n",
                     "      <td>Mark P. O. Morford</td>\n",
                     "      <td>2002</td>\n",
                     "      <td>Oxford University Press</td>\n",
                     "    </tr>\n",
                     "    <tr>\n",
                     "      <th>1</th>\n",
                     "      <td>2005018</td>\n",
                     "      <td>Clara Callan</td>\n",
                     "      <td>Richard Bruce Wright</td>\n",
                     "      <td>2001</td>\n",
                     "      <td>HarperFlamingo Canada</td>\n",
                     "    </tr>\n",
                     "    <tr>\n",
                     "      <th>2</th>\n",
                     "      <td>60973129</td>\n",
                     "      <td>Decision in Normandy</td>\n",
                     "      <td>Carlo D'Este</td>\n",
                     "      <td>1991</td>\n",
                     "      <td>HarperPerennial</td>\n",
                     "    </tr>\n",
                     "    <tr>\n",
                     "      <th>3</th>\n",
                     "      <td>374157065</td>\n",
                     "      <td>Flu: The Story of the Great Influenza Pandemic...</td>\n",
                     "      <td>Gina Bari Kolata</td>\n",
                     "      <td>1999</td>\n",
                     "      <td>Farrar Straus Giroux</td>\n",
                     "    </tr>\n",
                     "    <tr>\n",
                     "      <th>4</th>\n",
                     "      <td>393045218</td>\n",
                     "      <td>The Mummies of Urumchi</td>\n",
                     "      <td>E. J. W. Barber</td>\n",
                     "      <td>1999</td>\n",
                     "      <td>W. W. Norton &amp;amp; Company</td>\n",
                     "    </tr>\n",
                     "  </tbody>\n",
                     "</table>\n",
                     "</div>"
                  ],
                  "text/plain": [
                     "        isbn                                         book_title  \\\n",
                     "0  195153448                                Classical Mythology   \n",
                     "1    2005018                                       Clara Callan   \n",
                     "2   60973129                               Decision in Normandy   \n",
                     "3  374157065  Flu: The Story of the Great Influenza Pandemic...   \n",
                     "4  393045218                             The Mummies of Urumchi   \n",
                     "\n",
                     "            book_author year_of_publication                   publisher  \n",
                     "0    Mark P. O. Morford                2002     Oxford University Press  \n",
                     "1  Richard Bruce Wright                2001       HarperFlamingo Canada  \n",
                     "2          Carlo D'Este                1991             HarperPerennial  \n",
                     "3      Gina Bari Kolata                1999        Farrar Straus Giroux  \n",
                     "4       E. J. W. Barber                1999  W. W. Norton &amp; Company  "
                  ]
               },
               "execution_count": 3,
               "metadata": {},
               "output_type": "execute_result"
            }
         ],
         "source": [
            "df_books = pd.read_csv(\"BX-Books.csv\", delimiter=\",\", encoding=\"latin-1\")\n",
            "df_books.head()"
         ]
      },
      {
         "cell_type": "code",
         "execution_count": 8,
         "metadata": {},
         "outputs": [
            {
               "name": "stdout",
               "output_type": "stream",
               "text": [
                  "<class 'pandas.core.frame.DataFrame'>\n",
                  "RangeIndex: 271379 entries, 0 to 271378\n",
                  "Data columns (total 5 columns):\n",
                  " #   Column               Non-Null Count   Dtype \n",
                  "---  ------               --------------   ----- \n",
                  " 0   isbn                 271379 non-null  object\n",
                  " 1   book_title           271379 non-null  object\n",
                  " 2   book_author          271377 non-null  object\n",
                  " 3   year_of_publication  271379 non-null  object\n",
                  " 4   publisher            271377 non-null  object\n",
                  "dtypes: object(5)\n",
                  "memory usage: 10.4+ MB\n",
                  "None\n"
               ]
            }
         ],
         "source": [
            "print(df_books.info())"
         ]
      },
      {
         "cell_type": "code",
         "execution_count": 5,
         "metadata": {},
         "outputs": [
            {
               "data": {
                  "text/plain": [
                     "isbn                   False\n",
                     "book_title             False\n",
                     "book_author             True\n",
                     "year_of_publication    False\n",
                     "publisher               True\n",
                     "dtype: bool"
                  ]
               },
               "execution_count": 5,
               "metadata": {},
               "output_type": "execute_result"
            }
         ],
         "source": [
            "df_books.isna().any()"
         ]
      },
      {
         "cell_type": "code",
         "execution_count": 6,
         "metadata": {},
         "outputs": [
            {
               "name": "stdout",
               "output_type": "stream",
               "text": [
                  "isbn                   0\n",
                  "book_title             0\n",
                  "book_author            2\n",
                  "year_of_publication    0\n",
                  "publisher              2\n",
                  "dtype: int64\n"
               ]
            }
         ],
         "source": [
            "print(df_books.isnull().sum())"
         ]
      },
      {
         "cell_type": "code",
         "execution_count": 7,
         "metadata": {},
         "outputs": [
            {
               "name": "stdout",
               "output_type": "stream",
               "text": [
                  "Number of unique isbn: 271379\n"
               ]
            }
         ],
         "source": [
            "books_unique_values = df_books.nunique()\n",
            "print(books_unique_values)"
         ]
      },
      {
         "cell_type": "markdown",
         "metadata": {},
         "source": [
            "### Data Preparation\n"
         ]
      },
      {
         "cell_type": "code",
         "execution_count": 9,
         "metadata": {},
         "outputs": [],
         "source": [
            "df_books.columns = [\"isbn\", \"title\", \"author\", \"year\", \"publisher\"]"
         ]
      },
      {
         "cell_type": "code",
         "execution_count": 10,
         "metadata": {},
         "outputs": [],
         "source": [
            "df_books = df_books.sort_values(by=[\"title\", \"isbn\"], ascending=[0, 1])\n",
            "df_books.reset_index(drop=True, inplace=True)"
         ]
      },
      {
         "cell_type": "code",
         "execution_count": 11,
         "metadata": {},
         "outputs": [],
         "source": [
            "df_books[\"year\"] = pd.to_numeric(df_books[\"year\"], errors=\"coerce\")"
         ]
      },
      {
         "cell_type": "code",
         "execution_count": 12,
         "metadata": {},
         "outputs": [
            {
               "data": {
                  "text/html": [
                     "<div>\n",
                     "<style scoped>\n",
                     "    .dataframe tbody tr th:only-of-type {\n",
                     "        vertical-align: middle;\n",
                     "    }\n",
                     "\n",
                     "    .dataframe tbody tr th {\n",
                     "        vertical-align: top;\n",
                     "    }\n",
                     "\n",
                     "    .dataframe thead th {\n",
                     "        text-align: right;\n",
                     "    }\n",
                     "</style>\n",
                     "<table border=\"1\" class=\"dataframe\">\n",
                     "  <thead>\n",
                     "    <tr style=\"text-align: right;\">\n",
                     "      <th></th>\n",
                     "      <th>isbn</th>\n",
                     "      <th>title</th>\n",
                     "      <th>author</th>\n",
                     "      <th>year</th>\n",
                     "      <th>publisher</th>\n",
                     "    </tr>\n",
                     "  </thead>\n",
                     "  <tbody>\n",
                     "    <tr>\n",
                     "      <th>0</th>\n",
                     "      <td>2842192508</td>\n",
                     "      <td>Ã?Â?thique en toc</td>\n",
                     "      <td>Didier Daeninckx</td>\n",
                     "      <td>1998.0</td>\n",
                     "      <td>Baleine</td>\n",
                     "    </tr>\n",
                     "    <tr>\n",
                     "      <th>1</th>\n",
                     "      <td>3442725739</td>\n",
                     "      <td>Ã?Â?stlich der Berge.</td>\n",
                     "      <td>David Guterson</td>\n",
                     "      <td>2000.0</td>\n",
                     "      <td>btb</td>\n",
                     "    </tr>\n",
                     "    <tr>\n",
                     "      <th>2</th>\n",
                     "      <td>3451274973</td>\n",
                     "      <td>Ã?Â?sterlich leben.</td>\n",
                     "      <td>Anselm GrÃ?Â¼n</td>\n",
                     "      <td>2001.0</td>\n",
                     "      <td>Herder, Freiburg</td>\n",
                     "    </tr>\n",
                     "    <tr>\n",
                     "      <th>3</th>\n",
                     "      <td>325721538X</td>\n",
                     "      <td>Ã?Â?rger mit Produkt X. Roman.</td>\n",
                     "      <td>Joan Aiken</td>\n",
                     "      <td>1987.0</td>\n",
                     "      <td>Diogenes Verlag</td>\n",
                     "    </tr>\n",
                     "    <tr>\n",
                     "      <th>4</th>\n",
                     "      <td>3499232499</td>\n",
                     "      <td>Ã?Â?lpiraten.</td>\n",
                     "      <td>Janwillem van de Wetering</td>\n",
                     "      <td>2002.0</td>\n",
                     "      <td>Rowohlt Tb.</td>\n",
                     "    </tr>\n",
                     "  </tbody>\n",
                     "</table>\n",
                     "</div>"
                  ],
                  "text/plain": [
                     "         isbn                           title                     author  \\\n",
                     "0  2842192508               Ã?Â?thique en toc           Didier Daeninckx   \n",
                     "1  3442725739           Ã?Â?stlich der Berge.             David Guterson   \n",
                     "2  3451274973             Ã?Â?sterlich leben.             Anselm GrÃ?Â¼n   \n",
                     "3  325721538X  Ã?Â?rger mit Produkt X. Roman.                 Joan Aiken   \n",
                     "4  3499232499                   Ã?Â?lpiraten.  Janwillem van de Wetering   \n",
                     "\n",
                     "     year         publisher  \n",
                     "0  1998.0           Baleine  \n",
                     "1  2000.0               btb  \n",
                     "2  2001.0  Herder, Freiburg  \n",
                     "3  1987.0   Diogenes Verlag  \n",
                     "4  2002.0       Rowohlt Tb.  "
                  ]
               },
               "execution_count": 12,
               "metadata": {},
               "output_type": "execute_result"
            }
         ],
         "source": [
            "df_books.head()"
         ]
      },
      {
         "cell_type": "code",
         "execution_count": 15,
         "metadata": {},
         "outputs": [
            {
               "data": {
                  "text/html": [
                     "<div>\n",
                     "<style scoped>\n",
                     "    .dataframe tbody tr th:only-of-type {\n",
                     "        vertical-align: middle;\n",
                     "    }\n",
                     "\n",
                     "    .dataframe tbody tr th {\n",
                     "        vertical-align: top;\n",
                     "    }\n",
                     "\n",
                     "    .dataframe thead th {\n",
                     "        text-align: right;\n",
                     "    }\n",
                     "</style>\n",
                     "<table border=\"1\" class=\"dataframe\">\n",
                     "  <thead>\n",
                     "    <tr style=\"text-align: right;\">\n",
                     "      <th></th>\n",
                     "      <th>isbn</th>\n",
                     "      <th>title</th>\n",
                     "      <th>author</th>\n",
                     "      <th>year</th>\n",
                     "      <th>publisher</th>\n",
                     "    </tr>\n",
                     "  </thead>\n",
                     "  <tbody>\n",
                     "    <tr>\n",
                     "      <th>0</th>\n",
                     "      <td>2842192508</td>\n",
                     "      <td>Ã?Â?thique en toc</td>\n",
                     "      <td>Didier Daeninckx</td>\n",
                     "      <td>1998</td>\n",
                     "      <td>Baleine</td>\n",
                     "    </tr>\n",
                     "    <tr>\n",
                     "      <th>1</th>\n",
                     "      <td>3442725739</td>\n",
                     "      <td>Ã?Â?stlich der Berge.</td>\n",
                     "      <td>David Guterson</td>\n",
                     "      <td>2000</td>\n",
                     "      <td>btb</td>\n",
                     "    </tr>\n",
                     "    <tr>\n",
                     "      <th>2</th>\n",
                     "      <td>3451274973</td>\n",
                     "      <td>Ã?Â?sterlich leben.</td>\n",
                     "      <td>Anselm GrÃ?Â¼n</td>\n",
                     "      <td>2001</td>\n",
                     "      <td>Herder, Freiburg</td>\n",
                     "    </tr>\n",
                     "    <tr>\n",
                     "      <th>3</th>\n",
                     "      <td>325721538X</td>\n",
                     "      <td>Ã?Â?rger mit Produkt X. Roman.</td>\n",
                     "      <td>Joan Aiken</td>\n",
                     "      <td>1987</td>\n",
                     "      <td>Diogenes Verlag</td>\n",
                     "    </tr>\n",
                     "    <tr>\n",
                     "      <th>4</th>\n",
                     "      <td>3499232499</td>\n",
                     "      <td>Ã?Â?lpiraten.</td>\n",
                     "      <td>Janwillem van de Wetering</td>\n",
                     "      <td>2002</td>\n",
                     "      <td>Rowohlt Tb.</td>\n",
                     "    </tr>\n",
                     "  </tbody>\n",
                     "</table>\n",
                     "</div>"
                  ],
                  "text/plain": [
                     "         isbn                           title                     author  \\\n",
                     "0  2842192508               Ã?Â?thique en toc           Didier Daeninckx   \n",
                     "1  3442725739           Ã?Â?stlich der Berge.             David Guterson   \n",
                     "2  3451274973             Ã?Â?sterlich leben.             Anselm GrÃ?Â¼n   \n",
                     "3  325721538X  Ã?Â?rger mit Produkt X. Roman.                 Joan Aiken   \n",
                     "4  3499232499                   Ã?Â?lpiraten.  Janwillem van de Wetering   \n",
                     "\n",
                     "   year         publisher  \n",
                     "0  1998           Baleine  \n",
                     "1  2000               btb  \n",
                     "2  2001  Herder, Freiburg  \n",
                     "3  1987   Diogenes Verlag  \n",
                     "4  2002       Rowohlt Tb.  "
                  ]
               },
               "execution_count": 15,
               "metadata": {},
               "output_type": "execute_result"
            }
         ],
         "source": [
            "df_books[\"year\"] = df_books[\"year\"].fillna(0).astype(np.int32)\n",
            "df_books.head()"
         ]
      },
      {
         "cell_type": "code",
         "execution_count": 21,
         "metadata": {},
         "outputs": [
            {
               "data": {
                  "image/png": "[encoded data removed]",
                  "text/plain": [
                     "<Figure size 1000x500 with 1 Axes>"
                  ]
               },
               "metadata": {},
               "output_type": "display_data"
            }
         ],
         "source": [
            "# plot the year distribution of books\n",
            "def plot_year_distribution(df):\n",
            "    plt.figure(figsize=(10, 5))\n",
            "    plt.hist(\n",
            "        df[\"year\"],\n",
            "        bins=np.arange(df[\"year\"].min(), df[\"year\"].max() + 1),\n",
            "        color=\"purple\",\n",
            "    )\n",
            "    plt.xlabel(\"Year\")\n",
            "    plt.ylabel(\"Count\")\n",
            "    plt.title(\"Year Distribution\")\n",
            "    plt.show()\n",
            "\n",
            "\n",
            "plot_year_distribution(df_books)"
         ]
      },
      {
         "cell_type": "code",
         "execution_count": 20,
         "metadata": {},
         "outputs": [
            {
               "data": {
                  "image/png": "[encoded data removed]",
                  "text/plain": [
                     "<Figure size 1000x500 with 1 Axes>"
                  ]
               },
               "metadata": {},
               "output_type": "display_data"
            }
         ],
         "source": [
            "# plot a boxplot of year\n",
            "def plot_year_boxplot(df):\n",
            "    plt.figure(figsize=(10, 5))\n",
            "    sns.boxplot(x=df[\"year\"])\n",
            "    plt.xlabel(\"Year\")\n",
            "    plt.title(\"Year Boxplot\")\n",
            "    plt.show()\n",
            "\n",
            "\n",
            "plot_year_boxplot(df_books)"
         ]
      },
      {
         "cell_type": "markdown",
         "metadata": {},
         "source": [
            "## Ratings Data\n"
         ]
      },
      {
         "cell_type": "markdown",
         "metadata": {},
         "source": [
            "### Exploratory Data Analysis\n"
         ]
      },
      {
         "cell_type": "code",
         "execution_count": 22,
         "metadata": {},
         "outputs": [],
         "source": [
            "df_ratings = pd.read_csv(\"BX-Book-Ratings.csv\", delimiter=\",\", encoding=\"latin-1\")"
         ]
      },
      {
         "cell_type": "code",
         "execution_count": 23,
         "metadata": {},
         "outputs": [
            {
               "data": {
                  "text/html": [
                     "<div>\n",
                     "<style scoped>\n",
                     "    .dataframe tbody tr th:only-of-type {\n",
                     "        vertical-align: middle;\n",
                     "    }\n",
                     "\n",
                     "    .dataframe tbody tr th {\n",
                     "        vertical-align: top;\n",
                     "    }\n",
                     "\n",
                     "    .dataframe thead th {\n",
                     "        text-align: right;\n",
                     "    }\n",
                     "</style>\n",
                     "<table border=\"1\" class=\"dataframe\">\n",
                     "  <thead>\n",
                     "    <tr style=\"text-align: right;\">\n",
                     "      <th></th>\n",
                     "      <th>user_id</th>\n",
                     "      <th>isbn</th>\n",
                     "      <th>rating</th>\n",
                     "    </tr>\n",
                     "  </thead>\n",
                     "  <tbody>\n",
                     "    <tr>\n",
                     "      <th>0</th>\n",
                     "      <td>276725</td>\n",
                     "      <td>034545104X</td>\n",
                     "      <td>0</td>\n",
                     "    </tr>\n",
                     "    <tr>\n",
                     "      <th>1</th>\n",
                     "      <td>276726</td>\n",
                     "      <td>155061224</td>\n",
                     "      <td>5</td>\n",
                     "    </tr>\n",
                     "    <tr>\n",
                     "      <th>2</th>\n",
                     "      <td>276727</td>\n",
                     "      <td>446520802</td>\n",
                     "      <td>0</td>\n",
                     "    </tr>\n",
                     "    <tr>\n",
                     "      <th>3</th>\n",
                     "      <td>276729</td>\n",
                     "      <td>052165615X</td>\n",
                     "      <td>3</td>\n",
                     "    </tr>\n",
                     "    <tr>\n",
                     "      <th>4</th>\n",
                     "      <td>276729</td>\n",
                     "      <td>521795028</td>\n",
                     "      <td>6</td>\n",
                     "    </tr>\n",
                     "  </tbody>\n",
                     "</table>\n",
                     "</div>"
                  ],
                  "text/plain": [
                     "   user_id        isbn  rating\n",
                     "0   276725  034545104X       0\n",
                     "1   276726   155061224       5\n",
                     "2   276727   446520802       0\n",
                     "3   276729  052165615X       3\n",
                     "4   276729   521795028       6"
                  ]
               },
               "execution_count": 23,
               "metadata": {},
               "output_type": "execute_result"
            }
         ],
         "source": [
            "df_ratings.head()"
         ]
      },
      {
         "cell_type": "code",
         "execution_count": 24,
         "metadata": {},
         "outputs": [
            {
               "name": "stdout",
               "output_type": "stream",
               "text": [
                  "<class 'pandas.core.frame.DataFrame'>\n",
                  "RangeIndex: 1048575 entries, 0 to 1048574\n",
                  "Data columns (total 3 columns):\n",
                  " #   Column   Non-Null Count    Dtype \n",
                  "---  ------   --------------    ----- \n",
                  " 0   user_id  1048575 non-null  int64 \n",
                  " 1   isbn     1048575 non-null  object\n",
                  " 2   rating   1048575 non-null  int64 \n",
                  "dtypes: int64(2), object(1)\n",
                  "memory usage: 24.0+ MB\n",
                  "None\n"
               ]
            }
         ],
         "source": [
            "print(df_ratings.info())"
         ]
      },
      {
         "cell_type": "code",
         "execution_count": null,
         "metadata": {},
         "outputs": [],
         "source": [
            "nunique_rating_user_id = df_ratings[\"user_id\"].nunique()\n",
            "print(f\"Unique number of user_id: {nunique_rating_user_id}\")\n",
            "\n",
            "unique_rating_isbn = df_ratings[\"isbn\"].nunique()\n",
            "print(f\"Unique number of isbn: {unique_rating_isbn}\")"
         ]
      },
      {
         "cell_type": "code",
         "execution_count": null,
         "metadata": {},
         "outputs": [],
         "source": [
            "df_ratings.isnull().sum()"
         ]
      },
      {
         "cell_type": "code",
         "execution_count": null,
         "metadata": {},
         "outputs": [],
         "source": [
            "sns.displot(df_ratings[\"rating\"], kde=True)"
         ]
      },
      {
         "cell_type": "markdown",
         "metadata": {},
         "source": [
            "### Data Preparation\n"
         ]
      },
      {
         "cell_type": "code",
         "execution_count": null,
         "metadata": {},
         "outputs": [],
         "source": [
            "df_ratings = df_ratings[df_ratings[\"rating\"] != 0]"
         ]
      },
      {
         "cell_type": "code",
         "execution_count": null,
         "metadata": {},
         "outputs": [],
         "source": [
            "df_ratings.head()"
         ]
      },
      {
         "cell_type": "code",
         "execution_count": null,
         "metadata": {},
         "outputs": [],
         "source": [
            "# df_ratings = df_ratings[df_ratings[\"rating\"] > 4]\n",
            "# df_ratings.head()"
         ]
      },
      {
         "cell_type": "code",
         "execution_count": null,
         "metadata": {},
         "outputs": [],
         "source": [
            "df_book_ratings = pd.merge(df_ratings, df_books, on=\"isbn\")\n",
            "df_book_ratings = df_book_ratings[[\"user_id\", \"isbn\", \"book_title\", \"rating\"]]\n",
            "df_book_ratings = df_book_ratings.sort_values(\n",
            "    [\"isbn\", \"book_title\"], ascending=[0, 0]\n",
            ").reset_index(drop=True)\n",
            "\n",
            "df_book_ratings.head()"
         ]
      },
      {
         "cell_type": "code",
         "execution_count": null,
         "metadata": {},
         "outputs": [],
         "source": [
            "df_book_ratings.info()"
         ]
      },
      {
         "cell_type": "code",
         "execution_count": null,
         "metadata": {},
         "outputs": [],
         "source": [
            "user_id_idx_map = {\n",
            "    user: i for i, user in enumerate(df_book_ratings[\"user_id\"].unique())\n",
            "}"
         ]
      },
      {
         "cell_type": "code",
         "execution_count": null,
         "metadata": {},
         "outputs": [],
         "source": [
            "df_book_ratings[\"user_id_idx\"] = df_book_ratings[\"user_id\"].map(user_id_idx_map)"
         ]
      },
      {
         "cell_type": "code",
         "execution_count": null,
         "metadata": {},
         "outputs": [],
         "source": [
            "df_book_ratings.head()"
         ]
      },
      {
         "cell_type": "code",
         "execution_count": null,
         "metadata": {},
         "outputs": [],
         "source": [
            "isbn_idx_map = {isbn: i for i, isbn in enumerate(df_book_ratings[\"isbn\"].unique())}"
         ]
      },
      {
         "cell_type": "code",
         "execution_count": null,
         "metadata": {},
         "outputs": [],
         "source": [
            "df_book_ratings[\"isbn_idx\"] = df_book_ratings[\"isbn\"].map(isbn_idx_map)"
         ]
      },
      {
         "cell_type": "code",
         "execution_count": null,
         "metadata": {},
         "outputs": [],
         "source": [
            "df_book_ratings.head()"
         ]
      },
      {
         "cell_type": "code",
         "execution_count": null,
         "metadata": {},
         "outputs": [],
         "source": [
            "df_book_ratings.sort_values(by=[\"user_id_idx\", \"isbn_idx\"], inplace=True)\n",
            "df_book_ratings.reset_index(drop=True, inplace=True)"
         ]
      },
      {
         "cell_type": "code",
         "execution_count": null,
         "metadata": {},
         "outputs": [],
         "source": [
            "df_book_ratings.head()"
         ]
      },
      {
         "cell_type": "code",
         "execution_count": null,
         "metadata": {},
         "outputs": [],
         "source": [
            "ratings_matrix = df_book_ratings.pivot_table(\n",
            "    index=\"user_id_idx\", columns=\"isbn_idx\", values=\"rating\"\n",
            ").reset_index(drop=True)"
         ]
      },
      {
         "cell_type": "code",
         "execution_count": null,
         "metadata": {},
         "outputs": [],
         "source": [
            "ratings_matrix.head()"
         ]
      },
      {
         "cell_type": "code",
         "execution_count": null,
         "metadata": {},
         "outputs": [],
         "source": [
            "ratings_matrix.info()"
         ]
      },
      {
         "cell_type": "code",
         "execution_count": null,
         "metadata": {},
         "outputs": [],
         "source": [
            "# get the column names of the ratings matrix\n",
            "isbn_idx_7 = ratings_matrix[7]\n",
            "isbn_idx_7.head()"
         ]
      },
      {
         "cell_type": "code",
         "execution_count": null,
         "metadata": {},
         "outputs": [],
         "source": [
            "isbn_idx_7.info()"
         ]
      },
      {
         "cell_type": "code",
         "execution_count": null,
         "metadata": {},
         "outputs": [],
         "source": [
            "similarbooks = ratings_matrix.corrwith(isbn_idx_7)\n",
            "similarbooks = similarbooks.dropna()\n",
            "df = pd.DataFrame(similarbooks)\n",
            "df.head()"
         ]
      },
      {
         "cell_type": "code",
         "execution_count": null,
         "metadata": {},
         "outputs": [],
         "source": [
            "from sklearn.model_selection import train_test_split\n",
            "\n",
            "# Split the ratings matrix into training and testing sets\n",
            "X_train, X_test, y_train, y_test = train_test_split(\n",
            "    ratings_matrix.index, ratings_matrix.values, test_size=0.25\n",
            ")"
         ]
      }
   ],
   "metadata": {
      "kernelspec": {
         "display_name": ".venv",
         "language": "python",
         "name": "python3"
      },
      "language_info": {
         "codemirror_mode": {
            "name": "ipython",
            "version": 3
         },
         "file_extension": ".py",
         "mimetype": "text/x-python",
         "name": "python",
         "nbconvert_exporter": "python",
         "pygments_lexer": "ipython3",
         "version": "3.10.12"
      }
   },
   "nbformat": 4,
   "nbformat_minor": 2
}